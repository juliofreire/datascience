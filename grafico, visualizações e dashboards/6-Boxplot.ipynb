{
 "cells": [
  {
   "cell_type": "code",
   "execution_count": 1,
   "id": "52a982c1-f4cf-4210-aed8-df3d8be4999d",
   "metadata": {},
   "outputs": [],
   "source": [
    "# Importing libraries\n",
    "import pandas as pd\n",
    "import matplotlib.pyplot as plt"
   ]
  },
  {
   "cell_type": "code",
   "execution_count": 2,
   "id": "d7e7372f-7c82-4871-8127-e4e19de2d703",
   "metadata": {},
   "outputs": [
    {
     "data": {
      "text/plain": [
       "(31, 3)"
      ]
     },
     "execution_count": 2,
     "metadata": {},
     "output_type": "execute_result"
    }
   ],
   "source": [
    "# Loading data\n",
    "base = pd.read_csv(\"dados/trees.csv\")\n",
    "base.shape"
   ]
  },
  {
   "cell_type": "code",
   "execution_count": 3,
   "id": "c5070c00-410f-4fcc-81f2-7d08586cc2e9",
   "metadata": {},
   "outputs": [
    {
     "data": {
      "text/html": [
       "<div>\n",
       "<style scoped>\n",
       "    .dataframe tbody tr th:only-of-type {\n",
       "        vertical-align: middle;\n",
       "    }\n",
       "\n",
       "    .dataframe tbody tr th {\n",
       "        vertical-align: top;\n",
       "    }\n",
       "\n",
       "    .dataframe thead th {\n",
       "        text-align: right;\n",
       "    }\n",
       "</style>\n",
       "<table border=\"1\" class=\"dataframe\">\n",
       "  <thead>\n",
       "    <tr style=\"text-align: right;\">\n",
       "      <th></th>\n",
       "      <th>Girth</th>\n",
       "      <th>Height</th>\n",
       "      <th>Volume</th>\n",
       "    </tr>\n",
       "  </thead>\n",
       "  <tbody>\n",
       "    <tr>\n",
       "      <th>0</th>\n",
       "      <td>8.3</td>\n",
       "      <td>70</td>\n",
       "      <td>10.3</td>\n",
       "    </tr>\n",
       "    <tr>\n",
       "      <th>1</th>\n",
       "      <td>8.6</td>\n",
       "      <td>65</td>\n",
       "      <td>10.3</td>\n",
       "    </tr>\n",
       "    <tr>\n",
       "      <th>2</th>\n",
       "      <td>8.8</td>\n",
       "      <td>63</td>\n",
       "      <td>10.2</td>\n",
       "    </tr>\n",
       "    <tr>\n",
       "      <th>3</th>\n",
       "      <td>10.5</td>\n",
       "      <td>72</td>\n",
       "      <td>16.4</td>\n",
       "    </tr>\n",
       "    <tr>\n",
       "      <th>4</th>\n",
       "      <td>10.7</td>\n",
       "      <td>81</td>\n",
       "      <td>18.8</td>\n",
       "    </tr>\n",
       "  </tbody>\n",
       "</table>\n",
       "</div>"
      ],
      "text/plain": [
       "   Girth  Height  Volume\n",
       "0    8.3      70    10.3\n",
       "1    8.6      65    10.3\n",
       "2    8.8      63    10.2\n",
       "3   10.5      72    16.4\n",
       "4   10.7      81    18.8"
      ]
     },
     "execution_count": 3,
     "metadata": {},
     "output_type": "execute_result"
    }
   ],
   "source": [
    "# A brief view\n",
    "base.head()"
   ]
  },
  {
   "cell_type": "code",
   "execution_count": 9,
   "id": "404b3a5d-a38f-47b1-a92b-3e3bb9e65df4",
   "metadata": {},
   "outputs": [
    {
     "data": {
      "text/plain": [
       "Text(0.5, 0, 'Volume')"
      ]
     },
     "execution_count": 9,
     "metadata": {},
     "output_type": "execute_result"
    },
    {
     "data": {
      "image/png": "[encoded data removed]",
      "text/plain": [
       "<Figure size 432x288 with 1 Axes>"
      ]
     },
     "metadata": {
      "needs_background": "light"
     },
     "output_type": "display_data"
    }
   ],
   "source": [
    "# Creating a boxplot\n",
    "plt.boxplot(base.Volume, vert=False, showfliers=False, notch=True, patch_artist=True)\n",
    "plt.title(\"Trees\")\n",
    "plt.xlabel(\"Volume\")"
   ]
  },
  {
   "cell_type": "code",
   "execution_count": 27,
   "id": "6311c9c6-24dc-4029-a44a-03ecca34b867",
   "metadata": {},
   "outputs": [
    {
     "data": {
      "text/plain": [
       "Text(0, 0.5, 'a')"
      ]
     },
     "execution_count": 27,
     "metadata": {},
     "output_type": "execute_result"
    },
    {
     "data": {
      "image/png": "[encoded data removed]",
      "text/plain": [
       "<Figure size 432x288 with 1 Axes>"
      ]
     },
     "metadata": {
      "needs_background": "light"
     },
     "output_type": "display_data"
    }
   ],
   "source": [
    "# boxplot for line\n",
    "plt.boxplot(base, vert=False)\n",
    "plt.title(\"Trees\")\n",
    "plt.xlabel(\"Data\")\n",
    "plt.ylabel(\"a\")"
   ]
  },
  {
   "cell_type": "code",
   "execution_count": 25,
   "id": "e5ba3723-55ef-4d65-bfb0-32e10dfc510f",
   "metadata": {},
   "outputs": [
    {
     "data": {
      "text/plain": [
       "Text(0.5, 0, 'Data')"
      ]
     },
     "execution_count": 25,
     "metadata": {},
     "output_type": "execute_result"
    },
    {
     "data": {
      "image/png": "[encoded data removed]",
      "text/plain": [
       "<Figure size 432x288 with 1 Axes>"
      ]
     },
     "metadata": {
      "needs_background": "light"
     },
     "output_type": "display_data"
    }
   ],
   "source": [
    "plt.boxplot(base[\"Girth\"], vert=False)\n",
    "plt.boxplot(base[\"Height\"], vert=False)\n",
    "plt.boxplot(base[\"Volume\"], vert=False)\n",
    "plt.title(\"Trees\")\n",
    "plt.xlabel(\"Data\")"
   ]
  },
  {
   "cell_type": "code",
   "execution_count": 68,
   "id": "da89ad26-ad2c-4954-98b0-0840e0f47104",
   "metadata": {},
   "outputs": [
    {
     "data": {
      "text/plain": [
       "{'whiskers': [<matplotlib.lines.Line2D at 0x7f6854578310>,\n",
       "  <matplotlib.lines.Line2D at 0x7f6854578990>,\n",
       "  <matplotlib.lines.Line2D at 0x7f68544beb50>,\n",
       "  <matplotlib.lines.Line2D at 0x7f6854562890>,\n",
       "  <matplotlib.lines.Line2D at 0x7f685448ff90>,\n",
       "  <matplotlib.lines.Line2D at 0x7f68543e5210>],\n",
       " 'caps': [<matplotlib.lines.Line2D at 0x7f6854e45690>,\n",
       "  <matplotlib.lines.Line2D at 0x7f6854e455d0>,\n",
       "  <matplotlib.lines.Line2D at 0x7f6854562290>,\n",
       "  <matplotlib.lines.Line2D at 0x7f6854562990>,\n",
       "  <matplotlib.lines.Line2D at 0x7f68543e5f90>,\n",
       "  <matplotlib.lines.Line2D at 0x7f68543e5b10>],\n",
       " 'boxes': [<matplotlib.lines.Line2D at 0x7f6854578410>,\n",
       "  <matplotlib.lines.Line2D at 0x7f68544be450>,\n",
       "  <matplotlib.lines.Line2D at 0x7f685448f550>],\n",
       " 'medians': [<matplotlib.lines.Line2D at 0x7f68544be850>,\n",
       "  <matplotlib.lines.Line2D at 0x7f6854562dd0>,\n",
       "  <matplotlib.lines.Line2D at 0x7f68543e55d0>],\n",
       " 'fliers': [<matplotlib.lines.Line2D at 0x7f68544bec10>,\n",
       "  <matplotlib.lines.Line2D at 0x7f685448f510>,\n",
       "  <matplotlib.lines.Line2D at 0x7f68542c00d0>],\n",
       " 'means': []}"
      ]
     },
     "execution_count": 68,
     "metadata": {},
     "output_type": "execute_result"
    },
    {
     "data": {
      "image/png": "[encoded data removed]",
      "text/plain": [
       "<Figure size 432x288 with 1 Axes>"
      ]
     },
     "metadata": {
      "needs_background": "light"
     },
     "output_type": "display_data"
    }
   ],
   "source": [
    "labels = base.columns\n",
    "fig, ax = plt.subplots()\n",
    "ax.set_title(\"Trees\")\n",
    "ax.boxplot(base, positions=[1,2,3], labels=labels)"
   ]
  },
  {
   "cell_type": "code",
   "execution_count": null,
   "id": "8d735b13-566c-4f48-93db-8394e6d917f0",
   "metadata": {},
   "outputs": [],
   "source": []
  }
 ],
 "metadata": {
  "kernelspec": {
   "display_name": "Python 3",
   "language": "python",
   "name": "python3"
  },
  "language_info": {
   "codemirror_mode": {
    "name": "ipython",
    "version": 3
   },
   "file_extension": ".py",
   "mimetype": "text/x-python",
   "name": "python",
   "nbconvert_exporter": "python",
   "pygments_lexer": "ipython3",
   "version": "3.7.10"
  }
 },
 "nbformat": 4,
 "nbformat_minor": 5
}
