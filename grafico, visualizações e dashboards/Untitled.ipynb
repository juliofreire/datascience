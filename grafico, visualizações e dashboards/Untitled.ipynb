{
 "cells": [
  {
   "cell_type": "code",
   "execution_count": 1,
   "id": "9877831d-1903-44c7-ba7e-38043eaf1aee",
   "metadata": {},
   "outputs": [],
   "source": [
    "# Atividade 2"
   ]
  },
  {
   "cell_type": "code",
   "execution_count": 10,
   "id": "ae4b9756-3a1e-4cf5-8a56-fe17aea79de5",
   "metadata": {},
   "outputs": [],
   "source": [
    "# importing libraries\n",
    "import pandas as pd\n",
    "import matplotlib.pyplot as plt\n",
    "import seaborn as sns\n",
    "import statistics as sts"
   ]
  },
  {
   "cell_type": "code",
   "execution_count": 3,
   "id": "13cf151e-9a05-4af9-be48-78a8dbdbb9dd",
   "metadata": {
    "tags": []
   },
   "outputs": [
    {
     "data": {
      "text/plain": [
       "(187, 4)"
      ]
     },
     "execution_count": 3,
     "metadata": {},
     "output_type": "execute_result"
    }
   ],
   "source": [
    "df = pd.read_csv(\"dados/dados.csv\", sep=\";\")\n",
    "df.shape"
   ]
  },
  {
   "cell_type": "code",
   "execution_count": 4,
   "id": "96c2a95b-cab9-45d9-b06f-978cbd5bac75",
   "metadata": {},
   "outputs": [
    {
     "data": {
      "text/html": [
       "<div>\n",
       "<style scoped>\n",
       "    .dataframe tbody tr th:only-of-type {\n",
       "        vertical-align: middle;\n",
       "    }\n",
       "\n",
       "    .dataframe tbody tr th {\n",
       "        vertical-align: top;\n",
       "    }\n",
       "\n",
       "    .dataframe thead th {\n",
       "        text-align: right;\n",
       "    }\n",
       "</style>\n",
       "<table border=\"1\" class=\"dataframe\">\n",
       "  <thead>\n",
       "    <tr style=\"text-align: right;\">\n",
       "      <th></th>\n",
       "      <th>CODIGO</th>\n",
       "      <th>MUNICIPIO</th>\n",
       "      <th>PIB</th>\n",
       "      <th>VALOREMPENHO</th>\n",
       "    </tr>\n",
       "  </thead>\n",
       "  <tbody>\n",
       "    <tr>\n",
       "      <th>0</th>\n",
       "      <td>106</td>\n",
       "      <td>SANTANA DO LIVRAMENTO</td>\n",
       "      <td>12240.76</td>\n",
       "      <td>1088666.10</td>\n",
       "    </tr>\n",
       "    <tr>\n",
       "      <th>1</th>\n",
       "      <td>113</td>\n",
       "      <td>SANTO ANGELO</td>\n",
       "      <td>16575.82</td>\n",
       "      <td>800669.92</td>\n",
       "    </tr>\n",
       "    <tr>\n",
       "      <th>2</th>\n",
       "      <td>118</td>\n",
       "      <td>SAO FRANCISCO DE ASSIS</td>\n",
       "      <td>12037.61</td>\n",
       "      <td>466122.80</td>\n",
       "    </tr>\n",
       "    <tr>\n",
       "      <th>3</th>\n",
       "      <td>13</td>\n",
       "      <td>CACAPAVA DO SUL</td>\n",
       "      <td>13674.54</td>\n",
       "      <td>485535.86</td>\n",
       "    </tr>\n",
       "    <tr>\n",
       "      <th>4</th>\n",
       "      <td>120</td>\n",
       "      <td>SAO GABRIEL</td>\n",
       "      <td>19912.38</td>\n",
       "      <td>533719.86</td>\n",
       "    </tr>\n",
       "  </tbody>\n",
       "</table>\n",
       "</div>"
      ],
      "text/plain": [
       "   CODIGO               MUNICIPIO       PIB  VALOREMPENHO\n",
       "0     106   SANTANA DO LIVRAMENTO  12240.76    1088666.10\n",
       "1     113            SANTO ANGELO  16575.82     800669.92\n",
       "2     118  SAO FRANCISCO DE ASSIS  12037.61     466122.80\n",
       "3      13         CACAPAVA DO SUL  13674.54     485535.86\n",
       "4     120             SAO GABRIEL  19912.38     533719.86"
      ]
     },
     "execution_count": 4,
     "metadata": {},
     "output_type": "execute_result"
    }
   ],
   "source": [
    "df.head()"
   ]
  },
  {
   "cell_type": "code",
   "execution_count": 5,
   "id": "c883c644-e5ca-4646-bff3-10ffebedc48e",
   "metadata": {},
   "outputs": [
    {
     "data": {
      "text/plain": [
       "CODIGO          0\n",
       "MUNICIPIO       0\n",
       "PIB             0\n",
       "VALOREMPENHO    0\n",
       "dtype: int64"
      ]
     },
     "execution_count": 5,
     "metadata": {},
     "output_type": "execute_result"
    }
   ],
   "source": [
    "df.isnull().sum()"
   ]
  },
  {
   "cell_type": "code",
   "execution_count": 6,
   "id": "c4c97e0d-7536-42f1-8d1e-2cd158062220",
   "metadata": {},
   "outputs": [
    {
     "data": {
      "text/html": [
       "<div>\n",
       "<style scoped>\n",
       "    .dataframe tbody tr th:only-of-type {\n",
       "        vertical-align: middle;\n",
       "    }\n",
       "\n",
       "    .dataframe tbody tr th {\n",
       "        vertical-align: top;\n",
       "    }\n",
       "\n",
       "    .dataframe thead th {\n",
       "        text-align: right;\n",
       "    }\n",
       "</style>\n",
       "<table border=\"1\" class=\"dataframe\">\n",
       "  <thead>\n",
       "    <tr style=\"text-align: right;\">\n",
       "      <th></th>\n",
       "      <th>CODIGO</th>\n",
       "      <th>MUNICIPIO</th>\n",
       "      <th>PIB</th>\n",
       "      <th>VALOREMPENHO</th>\n",
       "    </tr>\n",
       "  </thead>\n",
       "  <tbody>\n",
       "    <tr>\n",
       "      <th>18</th>\n",
       "      <td>259</td>\n",
       "      <td>CERRO BRANCO</td>\n",
       "      <td>11961.10</td>\n",
       "      <td>208240.50</td>\n",
       "    </tr>\n",
       "    <tr>\n",
       "      <th>19</th>\n",
       "      <td>259</td>\n",
       "      <td>MONTE ALEGRE DOS CAMPOS</td>\n",
       "      <td>11961.10</td>\n",
       "      <td>208240.50</td>\n",
       "    </tr>\n",
       "    <tr>\n",
       "      <th>21</th>\n",
       "      <td>259</td>\n",
       "      <td>CERRO BRANCO</td>\n",
       "      <td>12467.25</td>\n",
       "      <td>208240.50</td>\n",
       "    </tr>\n",
       "    <tr>\n",
       "      <th>22</th>\n",
       "      <td>259</td>\n",
       "      <td>MONTE ALEGRE DOS CAMPOS</td>\n",
       "      <td>12467.25</td>\n",
       "      <td>208240.50</td>\n",
       "    </tr>\n",
       "    <tr>\n",
       "      <th>41</th>\n",
       "      <td>141</td>\n",
       "      <td>DOUTOR MAURICIO CARDOSO</td>\n",
       "      <td>13628.17</td>\n",
       "      <td>147767.38</td>\n",
       "    </tr>\n",
       "    <tr>\n",
       "      <th>42</th>\n",
       "      <td>141</td>\n",
       "      <td>TAQUARA</td>\n",
       "      <td>13628.17</td>\n",
       "      <td>147767.38</td>\n",
       "    </tr>\n",
       "    <tr>\n",
       "      <th>57</th>\n",
       "      <td>141</td>\n",
       "      <td>DOUTOR MAURICIO CARDOSO</td>\n",
       "      <td>18628.78</td>\n",
       "      <td>147767.38</td>\n",
       "    </tr>\n",
       "    <tr>\n",
       "      <th>58</th>\n",
       "      <td>141</td>\n",
       "      <td>TAQUARA</td>\n",
       "      <td>18628.78</td>\n",
       "      <td>147767.38</td>\n",
       "    </tr>\n",
       "    <tr>\n",
       "      <th>82</th>\n",
       "      <td>378</td>\n",
       "      <td>MULITERNO</td>\n",
       "      <td>16581.60</td>\n",
       "      <td>97594.98</td>\n",
       "    </tr>\n",
       "    <tr>\n",
       "      <th>83</th>\n",
       "      <td>378</td>\n",
       "      <td>SANTO ANTONIO DAS MISSOES</td>\n",
       "      <td>16581.60</td>\n",
       "      <td>97594.98</td>\n",
       "    </tr>\n",
       "    <tr>\n",
       "      <th>94</th>\n",
       "      <td>378</td>\n",
       "      <td>MULITERNO</td>\n",
       "      <td>19914.82</td>\n",
       "      <td>97594.98</td>\n",
       "    </tr>\n",
       "    <tr>\n",
       "      <th>95</th>\n",
       "      <td>378</td>\n",
       "      <td>SANTO ANTONIO DAS MISSOES</td>\n",
       "      <td>19914.82</td>\n",
       "      <td>97594.98</td>\n",
       "    </tr>\n",
       "    <tr>\n",
       "      <th>125</th>\n",
       "      <td>380</td>\n",
       "      <td>NOVA BOA VISTA</td>\n",
       "      <td>18676.57</td>\n",
       "      <td>58868.19</td>\n",
       "    </tr>\n",
       "    <tr>\n",
       "      <th>126</th>\n",
       "      <td>380</td>\n",
       "      <td>SANTO ANTONIO DO PLANALTO</td>\n",
       "      <td>18676.57</td>\n",
       "      <td>58868.19</td>\n",
       "    </tr>\n",
       "    <tr>\n",
       "      <th>141</th>\n",
       "      <td>380</td>\n",
       "      <td>NOVA BOA VISTA</td>\n",
       "      <td>24509.74</td>\n",
       "      <td>58868.19</td>\n",
       "    </tr>\n",
       "    <tr>\n",
       "      <th>142</th>\n",
       "      <td>380</td>\n",
       "      <td>SANTO ANTONIO DO PLANALTO</td>\n",
       "      <td>24509.74</td>\n",
       "      <td>58868.19</td>\n",
       "    </tr>\n",
       "    <tr>\n",
       "      <th>179</th>\n",
       "      <td>372</td>\n",
       "      <td>MATO LEITAO</td>\n",
       "      <td>17213.98</td>\n",
       "      <td>760.00</td>\n",
       "    </tr>\n",
       "    <tr>\n",
       "      <th>180</th>\n",
       "      <td>372</td>\n",
       "      <td>SANTA VITORIA DO PALMAR</td>\n",
       "      <td>17213.98</td>\n",
       "      <td>760.00</td>\n",
       "    </tr>\n",
       "    <tr>\n",
       "      <th>181</th>\n",
       "      <td>372</td>\n",
       "      <td>MATO LEITAO</td>\n",
       "      <td>27170.89</td>\n",
       "      <td>760.00</td>\n",
       "    </tr>\n",
       "    <tr>\n",
       "      <th>182</th>\n",
       "      <td>372</td>\n",
       "      <td>SANTA VITORIA DO PALMAR</td>\n",
       "      <td>27170.89</td>\n",
       "      <td>760.00</td>\n",
       "    </tr>\n",
       "  </tbody>\n",
       "</table>\n",
       "</div>"
      ],
      "text/plain": [
       "     CODIGO                  MUNICIPIO       PIB  VALOREMPENHO\n",
       "18      259               CERRO BRANCO  11961.10     208240.50\n",
       "19      259    MONTE ALEGRE DOS CAMPOS  11961.10     208240.50\n",
       "21      259               CERRO BRANCO  12467.25     208240.50\n",
       "22      259    MONTE ALEGRE DOS CAMPOS  12467.25     208240.50\n",
       "41      141    DOUTOR MAURICIO CARDOSO  13628.17     147767.38\n",
       "42      141                    TAQUARA  13628.17     147767.38\n",
       "57      141    DOUTOR MAURICIO CARDOSO  18628.78     147767.38\n",
       "58      141                    TAQUARA  18628.78     147767.38\n",
       "82      378                  MULITERNO  16581.60      97594.98\n",
       "83      378  SANTO ANTONIO DAS MISSOES  16581.60      97594.98\n",
       "94      378                  MULITERNO  19914.82      97594.98\n",
       "95      378  SANTO ANTONIO DAS MISSOES  19914.82      97594.98\n",
       "125     380             NOVA BOA VISTA  18676.57      58868.19\n",
       "126     380  SANTO ANTONIO DO PLANALTO  18676.57      58868.19\n",
       "141     380             NOVA BOA VISTA  24509.74      58868.19\n",
       "142     380  SANTO ANTONIO DO PLANALTO  24509.74      58868.19\n",
       "179     372                MATO LEITAO  17213.98        760.00\n",
       "180     372    SANTA VITORIA DO PALMAR  17213.98        760.00\n",
       "181     372                MATO LEITAO  27170.89        760.00\n",
       "182     372    SANTA VITORIA DO PALMAR  27170.89        760.00"
      ]
     },
     "execution_count": 6,
     "metadata": {},
     "output_type": "execute_result"
    }
   ],
   "source": [
    "df[df.duplicated([\"CODIGO\"], keep=False)]"
   ]
  },
  {
   "cell_type": "code",
   "execution_count": 7,
   "id": "016f305d-e6f3-4568-8757-416358c72bc6",
   "metadata": {},
   "outputs": [],
   "source": [
    "df.drop_duplicates(subset=[\"CODIGO\"], keep=\"first\", inplace=True)"
   ]
  },
  {
   "cell_type": "code",
   "execution_count": 8,
   "id": "ff5707c4-e162-433b-801e-1cedd64c6cc9",
   "metadata": {},
   "outputs": [
    {
     "data": {
      "text/html": [
       "<div>\n",
       "<style scoped>\n",
       "    .dataframe tbody tr th:only-of-type {\n",
       "        vertical-align: middle;\n",
       "    }\n",
       "\n",
       "    .dataframe tbody tr th {\n",
       "        vertical-align: top;\n",
       "    }\n",
       "\n",
       "    .dataframe thead th {\n",
       "        text-align: right;\n",
       "    }\n",
       "</style>\n",
       "<table border=\"1\" class=\"dataframe\">\n",
       "  <thead>\n",
       "    <tr style=\"text-align: right;\">\n",
       "      <th></th>\n",
       "      <th>CODIGO</th>\n",
       "      <th>MUNICIPIO</th>\n",
       "      <th>PIB</th>\n",
       "      <th>VALOREMPENHO</th>\n",
       "    </tr>\n",
       "  </thead>\n",
       "  <tbody>\n",
       "  </tbody>\n",
       "</table>\n",
       "</div>"
      ],
      "text/plain": [
       "Empty DataFrame\n",
       "Columns: [CODIGO, MUNICIPIO, PIB, VALOREMPENHO]\n",
       "Index: []"
      ]
     },
     "execution_count": 8,
     "metadata": {},
     "output_type": "execute_result"
    }
   ],
   "source": [
    "df[df.duplicated([\"CODIGO\"], keep=False)]"
   ]
  },
  {
   "cell_type": "code",
   "execution_count": 9,
   "id": "be4f704a-7087-41c5-818b-fd22ad8c2c0a",
   "metadata": {},
   "outputs": [
    {
     "data": {
      "text/html": [
       "<div>\n",
       "<style scoped>\n",
       "    .dataframe tbody tr th:only-of-type {\n",
       "        vertical-align: middle;\n",
       "    }\n",
       "\n",
       "    .dataframe tbody tr th {\n",
       "        vertical-align: top;\n",
       "    }\n",
       "\n",
       "    .dataframe thead th {\n",
       "        text-align: right;\n",
       "    }\n",
       "</style>\n",
       "<table border=\"1\" class=\"dataframe\">\n",
       "  <thead>\n",
       "    <tr style=\"text-align: right;\">\n",
       "      <th></th>\n",
       "      <th>CODIGO</th>\n",
       "      <th>MUNICIPIO</th>\n",
       "      <th>PIB</th>\n",
       "      <th>VALOREMPENHO</th>\n",
       "    </tr>\n",
       "  </thead>\n",
       "  <tbody>\n",
       "  </tbody>\n",
       "</table>\n",
       "</div>"
      ],
      "text/plain": [
       "Empty DataFrame\n",
       "Columns: [CODIGO, MUNICIPIO, PIB, VALOREMPENHO]\n",
       "Index: []"
      ]
     },
     "execution_count": 9,
     "metadata": {},
     "output_type": "execute_result"
    }
   ],
   "source": [
    "df[df.duplicated([\"MUNICIPIO\"], keep=False)]"
   ]
  },
  {
   "cell_type": "code",
   "execution_count": 12,
   "id": "55712928-7eb2-427e-bc5e-11cd667151df",
   "metadata": {},
   "outputs": [
    {
     "data": {
      "text/plain": [
       "17650.23526703751"
      ]
     },
     "execution_count": 12,
     "metadata": {},
     "output_type": "execute_result"
    }
   ],
   "source": [
    "var_pib = sts.stdev(df.PIB)\n",
    "var_pib"
   ]
  },
  {
   "cell_type": "code",
   "execution_count": 14,
   "id": "38ebf668-91bf-4a05-a1e3-3ff56f453c12",
   "metadata": {},
   "outputs": [
    {
     "data": {
      "text/html": [
       "<div>\n",
       "<style scoped>\n",
       "    .dataframe tbody tr th:only-of-type {\n",
       "        vertical-align: middle;\n",
       "    }\n",
       "\n",
       "    .dataframe tbody tr th {\n",
       "        vertical-align: top;\n",
       "    }\n",
       "\n",
       "    .dataframe thead th {\n",
       "        text-align: right;\n",
       "    }\n",
       "</style>\n",
       "<table border=\"1\" class=\"dataframe\">\n",
       "  <thead>\n",
       "    <tr style=\"text-align: right;\">\n",
       "      <th></th>\n",
       "      <th>CODIGO</th>\n",
       "      <th>MUNICIPIO</th>\n",
       "      <th>PIB</th>\n",
       "      <th>VALOREMPENHO</th>\n",
       "    </tr>\n",
       "  </thead>\n",
       "  <tbody>\n",
       "    <tr>\n",
       "      <th>49</th>\n",
       "      <td>149</td>\n",
       "      <td>TRIUNFO</td>\n",
       "      <td>223848.22</td>\n",
       "      <td>1442759.82</td>\n",
       "    </tr>\n",
       "    <tr>\n",
       "      <th>91</th>\n",
       "      <td>356</td>\n",
       "      <td>GARRUCHOS</td>\n",
       "      <td>68672.25</td>\n",
       "      <td>271841.26</td>\n",
       "    </tr>\n",
       "    <tr>\n",
       "      <th>146</th>\n",
       "      <td>453</td>\n",
       "      <td>MUITOS CAPOES</td>\n",
       "      <td>72353.72</td>\n",
       "      <td>140597.55</td>\n",
       "    </tr>\n",
       "    <tr>\n",
       "      <th>155</th>\n",
       "      <td>476</td>\n",
       "      <td>CAPAO DO CIPO</td>\n",
       "      <td>36739.78</td>\n",
       "      <td>60851.00</td>\n",
       "    </tr>\n",
       "    <tr>\n",
       "      <th>176</th>\n",
       "      <td>108</td>\n",
       "      <td>SANTA CRUZ DO SUL</td>\n",
       "      <td>40671.53</td>\n",
       "      <td>9637.00</td>\n",
       "    </tr>\n",
       "  </tbody>\n",
       "</table>\n",
       "</div>"
      ],
      "text/plain": [
       "     CODIGO          MUNICIPIO        PIB  VALOREMPENHO\n",
       "49      149            TRIUNFO  223848.22    1442759.82\n",
       "91      356          GARRUCHOS   68672.25     271841.26\n",
       "146     453      MUITOS CAPOES   72353.72     140597.55\n",
       "155     476      CAPAO DO CIPO   36739.78      60851.00\n",
       "176     108  SANTA CRUZ DO SUL   40671.53       9637.00"
      ]
     },
     "execution_count": 14,
     "metadata": {},
     "output_type": "execute_result"
    }
   ],
   "source": [
    "df.loc[(df[\"PIB\"] >= 2*var_pib)]"
   ]
  },
  {
   "cell_type": "code",
   "execution_count": 27,
   "id": "4332b678-e3dd-4b94-8490-344a6d2c8969",
   "metadata": {},
   "outputs": [
    {
     "data": {
      "text/html": [
       "<div>\n",
       "<style scoped>\n",
       "    .dataframe tbody tr th:only-of-type {\n",
       "        vertical-align: middle;\n",
       "    }\n",
       "\n",
       "    .dataframe tbody tr th {\n",
       "        vertical-align: top;\n",
       "    }\n",
       "\n",
       "    .dataframe thead th {\n",
       "        text-align: right;\n",
       "    }\n",
       "</style>\n",
       "<table border=\"1\" class=\"dataframe\">\n",
       "  <thead>\n",
       "    <tr style=\"text-align: right;\">\n",
       "      <th></th>\n",
       "      <th>CODIGO</th>\n",
       "      <th>PIB</th>\n",
       "      <th>VALOREMPENHO</th>\n",
       "    </tr>\n",
       "  </thead>\n",
       "  <tbody>\n",
       "    <tr>\n",
       "      <th>count</th>\n",
       "      <td>172.000000</td>\n",
       "      <td>172.000000</td>\n",
       "      <td>1.720000e+02</td>\n",
       "    </tr>\n",
       "    <tr>\n",
       "      <th>mean</th>\n",
       "      <td>242.023256</td>\n",
       "      <td>19888.315407</td>\n",
       "      <td>1.323686e+05</td>\n",
       "    </tr>\n",
       "    <tr>\n",
       "      <th>std</th>\n",
       "      <td>140.820277</td>\n",
       "      <td>17650.235267</td>\n",
       "      <td>1.669390e+05</td>\n",
       "    </tr>\n",
       "    <tr>\n",
       "      <th>min</th>\n",
       "      <td>1.000000</td>\n",
       "      <td>8236.630000</td>\n",
       "      <td>1.721300e+02</td>\n",
       "    </tr>\n",
       "    <tr>\n",
       "      <th>25%</th>\n",
       "      <td>135.000000</td>\n",
       "      <td>13595.255000</td>\n",
       "      <td>5.242277e+04</td>\n",
       "    </tr>\n",
       "    <tr>\n",
       "      <th>50%</th>\n",
       "      <td>230.000000</td>\n",
       "      <td>16846.770000</td>\n",
       "      <td>8.347715e+04</td>\n",
       "    </tr>\n",
       "    <tr>\n",
       "      <th>75%</th>\n",
       "      <td>364.000000</td>\n",
       "      <td>21334.432500</td>\n",
       "      <td>1.566785e+05</td>\n",
       "    </tr>\n",
       "    <tr>\n",
       "      <th>max</th>\n",
       "      <td>496.000000</td>\n",
       "      <td>223848.220000</td>\n",
       "      <td>1.442760e+06</td>\n",
       "    </tr>\n",
       "  </tbody>\n",
       "</table>\n",
       "</div>"
      ],
      "text/plain": [
       "           CODIGO            PIB  VALOREMPENHO\n",
       "count  172.000000     172.000000  1.720000e+02\n",
       "mean   242.023256   19888.315407  1.323686e+05\n",
       "std    140.820277   17650.235267  1.669390e+05\n",
       "min      1.000000    8236.630000  1.721300e+02\n",
       "25%    135.000000   13595.255000  5.242277e+04\n",
       "50%    230.000000   16846.770000  8.347715e+04\n",
       "75%    364.000000   21334.432500  1.566785e+05\n",
       "max    496.000000  223848.220000  1.442760e+06"
      ]
     },
     "execution_count": 27,
     "metadata": {},
     "output_type": "execute_result"
    }
   ],
   "source": [
    "df.describe()"
   ]
  },
  {
   "cell_type": "code",
   "execution_count": null,
   "id": "ce0f4085-e4e6-462b-890f-330dcdb937a7",
   "metadata": {},
   "outputs": [],
   "source": []
  },
  {
   "cell_type": "code",
   "execution_count": null,
   "id": "4fe7762f-0c31-47d7-9bae-430913b78836",
   "metadata": {},
   "outputs": [],
   "source": []
  },
  {
   "cell_type": "code",
   "execution_count": null,
   "id": "c9d57818-6dab-412c-a8cb-aa30012c5006",
   "metadata": {},
   "outputs": [],
   "source": []
  },
  {
   "cell_type": "code",
   "execution_count": 16,
   "id": "a81992f4-63b9-4731-9714-f038652f8942",
   "metadata": {},
   "outputs": [
    {
     "name": "stderr",
     "output_type": "stream",
     "text": [
      "/home/julio/anaconda3/envs/MLpy37/lib/python3.7/site-packages/seaborn/distributions.py:2557: FutureWarning: `distplot` is a deprecated function and will be removed in a future version. Please adapt your code to use either `displot` (a figure-level function with similar flexibility) or `histplot` (an axes-level function for histograms).\n",
      "  warnings.warn(msg, FutureWarning)\n"
     ]
    },
    {
     "data": {
      "text/plain": [
       "<AxesSubplot:xlabel='PIB', ylabel='Density'>"
      ]
     },
     "execution_count": 16,
     "metadata": {},
     "output_type": "execute_result"
    },
    {
     "data": {
      "image/png": "[encoded data removed]",
      "text/plain": [
       "<Figure size 432x288 with 1 Axes>"
      ]
     },
     "metadata": {
      "needs_background": "light"
     },
     "output_type": "display_data"
    }
   ],
   "source": [
    "sns.distplot(df.PIB, bins=10)"
   ]
  },
  {
   "cell_type": "code",
   "execution_count": 17,
   "id": "73738df0-b450-4175-92af-ae3b73d070cf",
   "metadata": {},
   "outputs": [
    {
     "name": "stderr",
     "output_type": "stream",
     "text": [
      "/home/julio/anaconda3/envs/MLpy37/lib/python3.7/site-packages/seaborn/distributions.py:2557: FutureWarning: `distplot` is a deprecated function and will be removed in a future version. Please adapt your code to use either `displot` (a figure-level function with similar flexibility) or `histplot` (an axes-level function for histograms).\n",
      "  warnings.warn(msg, FutureWarning)\n"
     ]
    },
    {
     "data": {
      "text/plain": [
       "<AxesSubplot:xlabel='VALOREMPENHO', ylabel='Density'>"
      ]
     },
     "execution_count": 17,
     "metadata": {},
     "output_type": "execute_result"
    },
    {
     "data": {
      "image/png": "[encoded data removed]",
      "text/plain": [
       "<Figure size 432x288 with 1 Axes>"
      ]
     },
     "metadata": {
      "needs_background": "light"
     },
     "output_type": "display_data"
    }
   ],
   "source": [
    "sns.distplot(df.VALOREMPENHO, bins=10)"
   ]
  },
  {
   "cell_type": "code",
   "execution_count": 18,
   "id": "5e67c9c5-38ac-4619-a02b-1b8f84d07a37",
   "metadata": {},
   "outputs": [
    {
     "data": {
      "text/html": [
       "<div>\n",
       "<style scoped>\n",
       "    .dataframe tbody tr th:only-of-type {\n",
       "        vertical-align: middle;\n",
       "    }\n",
       "\n",
       "    .dataframe tbody tr th {\n",
       "        vertical-align: top;\n",
       "    }\n",
       "\n",
       "    .dataframe thead th {\n",
       "        text-align: right;\n",
       "    }\n",
       "</style>\n",
       "<table border=\"1\" class=\"dataframe\">\n",
       "  <thead>\n",
       "    <tr style=\"text-align: right;\">\n",
       "      <th></th>\n",
       "      <th>MUNICIPIO</th>\n",
       "      <th>PIB</th>\n",
       "    </tr>\n",
       "  </thead>\n",
       "  <tbody>\n",
       "    <tr>\n",
       "      <th>88</th>\n",
       "      <td>REDENTORA</td>\n",
       "      <td>8236.63</td>\n",
       "    </tr>\n",
       "    <tr>\n",
       "      <th>11</th>\n",
       "      <td>AMARAL FERRADOR</td>\n",
       "      <td>9216.87</td>\n",
       "    </tr>\n",
       "    <tr>\n",
       "      <th>15</th>\n",
       "      <td>ENCRUZILHADA DO SUL</td>\n",
       "      <td>10372.80</td>\n",
       "    </tr>\n",
       "    <tr>\n",
       "      <th>66</th>\n",
       "      <td>SENTINELA DO SUL</td>\n",
       "      <td>10477.52</td>\n",
       "    </tr>\n",
       "    <tr>\n",
       "      <th>89</th>\n",
       "      <td>SAO VALERIO DO SUL</td>\n",
       "      <td>10503.72</td>\n",
       "    </tr>\n",
       "    <tr>\n",
       "      <th>6</th>\n",
       "      <td>PIRATINI</td>\n",
       "      <td>10811.67</td>\n",
       "    </tr>\n",
       "    <tr>\n",
       "      <th>56</th>\n",
       "      <td>MATA</td>\n",
       "      <td>10935.82</td>\n",
       "    </tr>\n",
       "    <tr>\n",
       "      <th>37</th>\n",
       "      <td>SANTANA DA BOA VISTA</td>\n",
       "      <td>11172.34</td>\n",
       "    </tr>\n",
       "    <tr>\n",
       "      <th>16</th>\n",
       "      <td>CANGUCU</td>\n",
       "      <td>11213.34</td>\n",
       "    </tr>\n",
       "    <tr>\n",
       "      <th>47</th>\n",
       "      <td>JAQUIRANA</td>\n",
       "      <td>11413.37</td>\n",
       "    </tr>\n",
       "    <tr>\n",
       "      <th>90</th>\n",
       "      <td>ALECRIM</td>\n",
       "      <td>11431.18</td>\n",
       "    </tr>\n",
       "    <tr>\n",
       "      <th>61</th>\n",
       "      <td>TIRADENTES DO SUL</td>\n",
       "      <td>11460.58</td>\n",
       "    </tr>\n",
       "    <tr>\n",
       "      <th>23</th>\n",
       "      <td>HERVAL</td>\n",
       "      <td>11484.31</td>\n",
       "    </tr>\n",
       "    <tr>\n",
       "      <th>7</th>\n",
       "      <td>TUNAS</td>\n",
       "      <td>11543.02</td>\n",
       "    </tr>\n",
       "    <tr>\n",
       "      <th>36</th>\n",
       "      <td>ITAARA</td>\n",
       "      <td>11615.69</td>\n",
       "    </tr>\n",
       "    <tr>\n",
       "      <th>170</th>\n",
       "      <td>GENERAL CAMARA</td>\n",
       "      <td>11628.97</td>\n",
       "    </tr>\n",
       "    <tr>\n",
       "      <th>115</th>\n",
       "      <td>PORTO LUCENA</td>\n",
       "      <td>11721.19</td>\n",
       "    </tr>\n",
       "    <tr>\n",
       "      <th>76</th>\n",
       "      <td>SILVEIRA MARTINS</td>\n",
       "      <td>11760.63</td>\n",
       "    </tr>\n",
       "    <tr>\n",
       "      <th>35</th>\n",
       "      <td>DOM PEDRO DE ALCANTARA</td>\n",
       "      <td>11846.92</td>\n",
       "    </tr>\n",
       "    <tr>\n",
       "      <th>18</th>\n",
       "      <td>CERRO BRANCO</td>\n",
       "      <td>11961.10</td>\n",
       "    </tr>\n",
       "  </tbody>\n",
       "</table>\n",
       "</div>"
      ],
      "text/plain": [
       "                  MUNICIPIO       PIB\n",
       "88                REDENTORA   8236.63\n",
       "11          AMARAL FERRADOR   9216.87\n",
       "15      ENCRUZILHADA DO SUL  10372.80\n",
       "66         SENTINELA DO SUL  10477.52\n",
       "89       SAO VALERIO DO SUL  10503.72\n",
       "6                  PIRATINI  10811.67\n",
       "56                     MATA  10935.82\n",
       "37     SANTANA DA BOA VISTA  11172.34\n",
       "16                  CANGUCU  11213.34\n",
       "47                JAQUIRANA  11413.37\n",
       "90                  ALECRIM  11431.18\n",
       "61        TIRADENTES DO SUL  11460.58\n",
       "23                   HERVAL  11484.31\n",
       "7                     TUNAS  11543.02\n",
       "36                   ITAARA  11615.69\n",
       "170          GENERAL CAMARA  11628.97\n",
       "115            PORTO LUCENA  11721.19\n",
       "76         SILVEIRA MARTINS  11760.63\n",
       "35   DOM PEDRO DE ALCANTARA  11846.92\n",
       "18             CERRO BRANCO  11961.10"
      ]
     },
     "execution_count": 18,
     "metadata": {},
     "output_type": "execute_result"
    }
   ],
   "source": [
    "group = df.sort_values(\"PIB\").head(20)\n",
    "group = group.iloc[:,1:3]\n",
    "group"
   ]
  },
  {
   "cell_type": "code",
   "execution_count": 19,
   "id": "9fd08d0d-6c80-49fe-8780-3df94e96408a",
   "metadata": {},
   "outputs": [
    {
     "data": {
      "text/plain": [
       "<AxesSubplot:xlabel='MUNICIPIO'>"
      ]
     },
     "execution_count": 19,
     "metadata": {},
     "output_type": "execute_result"
    },
    {
     "data": {
      "image/png": "[encoded data removed]",
      "text/plain": [
       "<Figure size 432x288 with 1 Axes>"
      ]
     },
     "metadata": {
      "needs_background": "light"
     },
     "output_type": "display_data"
    }
   ],
   "source": [
    "group.plot.bar(x=\"MUNICIPIO\", y=\"PIB\")"
   ]
  },
  {
   "cell_type": "code",
   "execution_count": 20,
   "id": "0e7e8a43-4bc5-478e-b5a7-a461185e1b67",
   "metadata": {},
   "outputs": [
    {
     "data": {
      "text/html": [
       "<div>\n",
       "<style scoped>\n",
       "    .dataframe tbody tr th:only-of-type {\n",
       "        vertical-align: middle;\n",
       "    }\n",
       "\n",
       "    .dataframe tbody tr th {\n",
       "        vertical-align: top;\n",
       "    }\n",
       "\n",
       "    .dataframe thead th {\n",
       "        text-align: right;\n",
       "    }\n",
       "</style>\n",
       "<table border=\"1\" class=\"dataframe\">\n",
       "  <thead>\n",
       "    <tr style=\"text-align: right;\">\n",
       "      <th></th>\n",
       "      <th>MUNICIPIO</th>\n",
       "      <th>VALOREMPENHO</th>\n",
       "    </tr>\n",
       "  </thead>\n",
       "  <tbody>\n",
       "    <tr>\n",
       "      <th>186</th>\n",
       "      <td>GUARANI DAS MISSOES</td>\n",
       "      <td>172.13</td>\n",
       "    </tr>\n",
       "    <tr>\n",
       "      <th>184</th>\n",
       "      <td>GETULIO VARGAS</td>\n",
       "      <td>233.01</td>\n",
       "    </tr>\n",
       "    <tr>\n",
       "      <th>185</th>\n",
       "      <td>NOVA SANTA RITA</td>\n",
       "      <td>310.58</td>\n",
       "    </tr>\n",
       "    <tr>\n",
       "      <th>183</th>\n",
       "      <td>SANTA BARBARA DO SUL</td>\n",
       "      <td>365.00</td>\n",
       "    </tr>\n",
       "    <tr>\n",
       "      <th>179</th>\n",
       "      <td>MATO LEITAO</td>\n",
       "      <td>760.00</td>\n",
       "    </tr>\n",
       "    <tr>\n",
       "      <th>178</th>\n",
       "      <td>SAO SEPE</td>\n",
       "      <td>1186.00</td>\n",
       "    </tr>\n",
       "    <tr>\n",
       "      <th>177</th>\n",
       "      <td>IJUI</td>\n",
       "      <td>5920.00</td>\n",
       "    </tr>\n",
       "    <tr>\n",
       "      <th>175</th>\n",
       "      <td>PORTO ALEGRE</td>\n",
       "      <td>9358.33</td>\n",
       "    </tr>\n",
       "    <tr>\n",
       "      <th>173</th>\n",
       "      <td>SANTA MARIA</td>\n",
       "      <td>9538.34</td>\n",
       "    </tr>\n",
       "    <tr>\n",
       "      <th>176</th>\n",
       "      <td>SANTA CRUZ DO SUL</td>\n",
       "      <td>9637.00</td>\n",
       "    </tr>\n",
       "    <tr>\n",
       "      <th>174</th>\n",
       "      <td>TUPANCIRETA</td>\n",
       "      <td>12475.20</td>\n",
       "    </tr>\n",
       "    <tr>\n",
       "      <th>170</th>\n",
       "      <td>GENERAL CAMARA</td>\n",
       "      <td>13824.15</td>\n",
       "    </tr>\n",
       "    <tr>\n",
       "      <th>166</th>\n",
       "      <td>MAXIMILIANO DE ALMEIDA</td>\n",
       "      <td>19376.34</td>\n",
       "    </tr>\n",
       "    <tr>\n",
       "      <th>167</th>\n",
       "      <td>NOVO MACHADO</td>\n",
       "      <td>21715.00</td>\n",
       "    </tr>\n",
       "    <tr>\n",
       "      <th>171</th>\n",
       "      <td>IPIRANGA DO SUL</td>\n",
       "      <td>22470.03</td>\n",
       "    </tr>\n",
       "    <tr>\n",
       "      <th>172</th>\n",
       "      <td>CONDOR</td>\n",
       "      <td>22632.98</td>\n",
       "    </tr>\n",
       "    <tr>\n",
       "      <th>161</th>\n",
       "      <td>SAO JOSE DO HERVAL</td>\n",
       "      <td>24583.00</td>\n",
       "    </tr>\n",
       "    <tr>\n",
       "      <th>164</th>\n",
       "      <td>FLORIANO PEIXOTO</td>\n",
       "      <td>25715.50</td>\n",
       "    </tr>\n",
       "    <tr>\n",
       "      <th>169</th>\n",
       "      <td>VILA MARIA</td>\n",
       "      <td>28149.89</td>\n",
       "    </tr>\n",
       "    <tr>\n",
       "      <th>157</th>\n",
       "      <td>AUREA</td>\n",
       "      <td>28735.10</td>\n",
       "    </tr>\n",
       "  </tbody>\n",
       "</table>\n",
       "</div>"
      ],
      "text/plain": [
       "                  MUNICIPIO  VALOREMPENHO\n",
       "186     GUARANI DAS MISSOES        172.13\n",
       "184          GETULIO VARGAS        233.01\n",
       "185         NOVA SANTA RITA        310.58\n",
       "183    SANTA BARBARA DO SUL        365.00\n",
       "179             MATO LEITAO        760.00\n",
       "178                SAO SEPE       1186.00\n",
       "177                    IJUI       5920.00\n",
       "175            PORTO ALEGRE       9358.33\n",
       "173             SANTA MARIA       9538.34\n",
       "176       SANTA CRUZ DO SUL       9637.00\n",
       "174             TUPANCIRETA      12475.20\n",
       "170          GENERAL CAMARA      13824.15\n",
       "166  MAXIMILIANO DE ALMEIDA      19376.34\n",
       "167            NOVO MACHADO      21715.00\n",
       "171         IPIRANGA DO SUL      22470.03\n",
       "172                  CONDOR      22632.98\n",
       "161      SAO JOSE DO HERVAL      24583.00\n",
       "164        FLORIANO PEIXOTO      25715.50\n",
       "169              VILA MARIA      28149.89\n",
       "157                   AUREA      28735.10"
      ]
     },
     "execution_count": 20,
     "metadata": {},
     "output_type": "execute_result"
    }
   ],
   "source": [
    "group = df.sort_values(\"VALOREMPENHO\").head(20)\n",
    "group = group.iloc[:,[1,3]]\n",
    "group"
   ]
  },
  {
   "cell_type": "code",
   "execution_count": 21,
   "id": "034f76cd-79bd-441e-84b7-d959507d122a",
   "metadata": {},
   "outputs": [
    {
     "data": {
      "text/plain": [
       "<AxesSubplot:xlabel='MUNICIPIO'>"
      ]
     },
     "execution_count": 21,
     "metadata": {},
     "output_type": "execute_result"
    },
    {
     "data": {
      "image/png": "[encoded data removed]",
      "text/plain": [
       "<Figure size 432x288 with 1 Axes>"
      ]
     },
     "metadata": {
      "needs_background": "light"
     },
     "output_type": "display_data"
    }
   ],
   "source": [
    "group.plot.bar(x=\"MUNICIPIO\", y=\"VALOREMPENHO\")"
   ]
  },
  {
   "cell_type": "code",
   "execution_count": 22,
   "id": "bf2b01b1-e3a8-4278-bbdc-e0459ee7e367",
   "metadata": {},
   "outputs": [
    {
     "data": {
      "text/html": [
       "<div>\n",
       "<style scoped>\n",
       "    .dataframe tbody tr th:only-of-type {\n",
       "        vertical-align: middle;\n",
       "    }\n",
       "\n",
       "    .dataframe tbody tr th {\n",
       "        vertical-align: top;\n",
       "    }\n",
       "\n",
       "    .dataframe thead th {\n",
       "        text-align: right;\n",
       "    }\n",
       "</style>\n",
       "<table border=\"1\" class=\"dataframe\">\n",
       "  <thead>\n",
       "    <tr style=\"text-align: right;\">\n",
       "      <th></th>\n",
       "      <th>CODIGO</th>\n",
       "      <th>MUNICIPIO</th>\n",
       "      <th>PIB</th>\n",
       "      <th>VALOREMPENHO</th>\n",
       "    </tr>\n",
       "  </thead>\n",
       "  <tbody>\n",
       "    <tr>\n",
       "      <th>0</th>\n",
       "      <td>106</td>\n",
       "      <td>SANTANA DO LIVRAMENTO</td>\n",
       "      <td>12240.76</td>\n",
       "      <td>1088666.10</td>\n",
       "    </tr>\n",
       "    <tr>\n",
       "      <th>1</th>\n",
       "      <td>113</td>\n",
       "      <td>SANTO ANGELO</td>\n",
       "      <td>16575.82</td>\n",
       "      <td>800669.92</td>\n",
       "    </tr>\n",
       "    <tr>\n",
       "      <th>2</th>\n",
       "      <td>118</td>\n",
       "      <td>SAO FRANCISCO DE ASSIS</td>\n",
       "      <td>12037.61</td>\n",
       "      <td>466122.80</td>\n",
       "    </tr>\n",
       "    <tr>\n",
       "      <th>3</th>\n",
       "      <td>13</td>\n",
       "      <td>CACAPAVA DO SUL</td>\n",
       "      <td>13674.54</td>\n",
       "      <td>485535.86</td>\n",
       "    </tr>\n",
       "    <tr>\n",
       "      <th>4</th>\n",
       "      <td>120</td>\n",
       "      <td>SAO GABRIEL</td>\n",
       "      <td>19912.38</td>\n",
       "      <td>533719.86</td>\n",
       "    </tr>\n",
       "    <tr>\n",
       "      <th>5</th>\n",
       "      <td>98</td>\n",
       "      <td>QUARAI</td>\n",
       "      <td>12552.51</td>\n",
       "      <td>381286.24</td>\n",
       "    </tr>\n",
       "    <tr>\n",
       "      <th>6</th>\n",
       "      <td>95</td>\n",
       "      <td>PIRATINI</td>\n",
       "      <td>10811.67</td>\n",
       "      <td>315884.50</td>\n",
       "    </tr>\n",
       "    <tr>\n",
       "      <th>7</th>\n",
       "      <td>325</td>\n",
       "      <td>TUNAS</td>\n",
       "      <td>11543.02</td>\n",
       "      <td>326884.60</td>\n",
       "    </tr>\n",
       "    <tr>\n",
       "      <th>8</th>\n",
       "      <td>126</td>\n",
       "      <td>SAO LUIZ GONZAGA</td>\n",
       "      <td>15887.14</td>\n",
       "      <td>385185.68</td>\n",
       "    </tr>\n",
       "    <tr>\n",
       "      <th>9</th>\n",
       "      <td>153</td>\n",
       "      <td>URUGUAIANA</td>\n",
       "      <td>21084.19</td>\n",
       "      <td>401124.62</td>\n",
       "    </tr>\n",
       "    <tr>\n",
       "      <th>10</th>\n",
       "      <td>36</td>\n",
       "      <td>DOM PEDRITO</td>\n",
       "      <td>19013.71</td>\n",
       "      <td>371857.25</td>\n",
       "    </tr>\n",
       "    <tr>\n",
       "      <th>11</th>\n",
       "      <td>248</td>\n",
       "      <td>AMARAL FERRADOR</td>\n",
       "      <td>9216.87</td>\n",
       "      <td>235327.02</td>\n",
       "    </tr>\n",
       "    <tr>\n",
       "      <th>12</th>\n",
       "      <td>297</td>\n",
       "      <td>PARAISO DO SUL</td>\n",
       "      <td>13170.25</td>\n",
       "      <td>270262.04</td>\n",
       "    </tr>\n",
       "    <tr>\n",
       "      <th>13</th>\n",
       "      <td>125</td>\n",
       "      <td>SAO LOURENCO DO SUL</td>\n",
       "      <td>12674.70</td>\n",
       "      <td>251561.35</td>\n",
       "    </tr>\n",
       "    <tr>\n",
       "      <th>14</th>\n",
       "      <td>239</td>\n",
       "      <td>JOIA</td>\n",
       "      <td>23312.14</td>\n",
       "      <td>347560.44</td>\n",
       "    </tr>\n",
       "    <tr>\n",
       "      <th>15</th>\n",
       "      <td>38</td>\n",
       "      <td>ENCRUZILHADA DO SUL</td>\n",
       "      <td>10372.80</td>\n",
       "      <td>200738.61</td>\n",
       "    </tr>\n",
       "    <tr>\n",
       "      <th>16</th>\n",
       "      <td>23</td>\n",
       "      <td>CANGUCU</td>\n",
       "      <td>11213.34</td>\n",
       "      <td>205741.65</td>\n",
       "    </tr>\n",
       "    <tr>\n",
       "      <th>17</th>\n",
       "      <td>140</td>\n",
       "      <td>TAPES</td>\n",
       "      <td>14056.88</td>\n",
       "      <td>230054.99</td>\n",
       "    </tr>\n",
       "    <tr>\n",
       "      <th>18</th>\n",
       "      <td>259</td>\n",
       "      <td>CERRO BRANCO</td>\n",
       "      <td>11961.10</td>\n",
       "      <td>208240.50</td>\n",
       "    </tr>\n",
       "    <tr>\n",
       "      <th>20</th>\n",
       "      <td>79</td>\n",
       "      <td>MOSTARDAS</td>\n",
       "      <td>19565.25</td>\n",
       "      <td>284378.16</td>\n",
       "    </tr>\n",
       "  </tbody>\n",
       "</table>\n",
       "</div>"
      ],
      "text/plain": [
       "    CODIGO               MUNICIPIO       PIB  VALOREMPENHO\n",
       "0      106   SANTANA DO LIVRAMENTO  12240.76    1088666.10\n",
       "1      113            SANTO ANGELO  16575.82     800669.92\n",
       "2      118  SAO FRANCISCO DE ASSIS  12037.61     466122.80\n",
       "3       13         CACAPAVA DO SUL  13674.54     485535.86\n",
       "4      120             SAO GABRIEL  19912.38     533719.86\n",
       "5       98                  QUARAI  12552.51     381286.24\n",
       "6       95                PIRATINI  10811.67     315884.50\n",
       "7      325                   TUNAS  11543.02     326884.60\n",
       "8      126        SAO LUIZ GONZAGA  15887.14     385185.68\n",
       "9      153              URUGUAIANA  21084.19     401124.62\n",
       "10      36             DOM PEDRITO  19013.71     371857.25\n",
       "11     248         AMARAL FERRADOR   9216.87     235327.02\n",
       "12     297          PARAISO DO SUL  13170.25     270262.04\n",
       "13     125     SAO LOURENCO DO SUL  12674.70     251561.35\n",
       "14     239                    JOIA  23312.14     347560.44\n",
       "15      38     ENCRUZILHADA DO SUL  10372.80     200738.61\n",
       "16      23                 CANGUCU  11213.34     205741.65\n",
       "17     140                   TAPES  14056.88     230054.99\n",
       "18     259            CERRO BRANCO  11961.10     208240.50\n",
       "20      79               MOSTARDAS  19565.25     284378.16"
      ]
     },
     "execution_count": 22,
     "metadata": {},
     "output_type": "execute_result"
    }
   ],
   "source": [
    "group = df.head(20)\n",
    "group"
   ]
  },
  {
   "cell_type": "code",
   "execution_count": 26,
   "id": "ff849e15-90a4-44d8-b28e-e31d923aa48a",
   "metadata": {},
   "outputs": [
    {
     "data": {
      "text/plain": [
       "Text(0, 0.5, 'VALOR EMPENHO')"
      ]
     },
     "execution_count": 26,
     "metadata": {},
     "output_type": "execute_result"
    },
    {
     "data": {
      "image/png": "[encoded data removed]",
      "text/plain": [
       "<Figure size 432x288 with 1 Axes>"
      ]
     },
     "metadata": {
      "needs_background": "light"
     },
     "output_type": "display_data"
    }
   ],
   "source": [
    "plt.scatter(df.PIB, df.VALOREMPENHO)\n",
    "plt.xlabel(\"PIB\")\n",
    "plt.ylabel(\"VALOR EMPENHO\")"
   ]
  },
  {
   "cell_type": "code",
   "execution_count": null,
   "id": "ed1a2276-b08a-4e6d-8059-2ca992e1ce22",
   "metadata": {},
   "outputs": [],
   "source": []
  },
  {
   "cell_type": "code",
   "execution_count": null,
   "id": "b18dcdee-6c2d-46ef-9952-54870ca20a59",
   "metadata": {},
   "outputs": [],
   "source": []
  }
 ],
 "metadata": {
  "kernelspec": {
   "display_name": "Python 3",
   "language": "python",
   "name": "python3"
  },
  "language_info": {
   "codemirror_mode": {
    "name": "ipython",
    "version": 3
   },
   "file_extension": ".py",
   "mimetype": "text/x-python",
   "name": "python",
   "nbconvert_exporter": "python",
   "pygments_lexer": "ipython3",
   "version": "3.7.10"
  }
 },
 "nbformat": 4,
 "nbformat_minor": 5
}
