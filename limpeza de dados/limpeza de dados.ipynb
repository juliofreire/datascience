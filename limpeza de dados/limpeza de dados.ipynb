{
 "cells": [
  {
   "cell_type": "code",
   "execution_count": null,
   "id": "5f33713a-a549-4623-94b5-98dac4fef56a",
   "metadata": {},
   "outputs": [],
   "source": [
    "#Formação cientista de dados\n",
    "#Limpeza e tratamento de Dados"
   ]
  },
  {
   "cell_type": "code",
   "execution_count": null,
   "id": "437e09ac-dd74-4e82-ae34-6acaeaf50152",
   "metadata": {},
   "outputs": [],
   "source": [
    "import pandas as pd\n",
    "import seaborn as srn\n",
    "import statistics as sts"
   ]
  },
  {
   "cell_type": "code",
   "execution_count": null,
   "id": "495231f5-11dc-4978-9864-64bfef069946",
   "metadata": {},
   "outputs": [],
   "source": [
    "#importar dados\n",
    "dataset = pd.read_csv('limpeza de dados/Churn.csv', sep=\";\")\n",
    "#visualisar\n",
    "dataset.head()"
   ]
  },
  {
   "cell_type": "code",
   "execution_count": null,
   "id": "9eb727db-3cc4-43df-aaf5-6b0756010071",
   "metadata": {},
   "outputs": [],
   "source": [
    "#tamanho\n",
    "dataset.shape"
   ]
  },
  {
   "cell_type": "code",
   "execution_count": null,
   "id": "42999bb9-22cc-493b-906d-9315eb33c67f",
   "metadata": {},
   "outputs": [],
   "source": [
    "#dando significado as colunas\n",
    "dataset.columns = [\"Id\", \"Score\",\"Estado\", \"Gênero\", \"Idade\", \"Patrimônio\", \"Saldo\", \"Produtos\", \"TerCarCredito\",\n",
    "                   \"Ativo\", \"Salário\", \"Saiu\"]"
   ]
  },
  {
   "cell_type": "code",
   "execution_count": null,
   "id": "1a299278-3060-4152-a5ba-323d454f7d69",
   "metadata": {},
   "outputs": [],
   "source": [
    "#visualisar\n",
    "dataset.head()"
   ]
  },
  {
   "cell_type": "code",
   "execution_count": null,
   "id": "6126e8d7-bd30-483e-98d5-125597775ef5",
   "metadata": {},
   "outputs": [],
   "source": [
    "#explorar dados categorico\n",
    "#estado\n",
    "agrupado = dataset.groupby(['Estado']).size()\n",
    "agrupado"
   ]
  },
  {
   "cell_type": "code",
   "execution_count": null,
   "id": "755445e3-e90e-4548-98be-2508bfe52424",
   "metadata": {},
   "outputs": [],
   "source": [
    "agrupado.plot.bar(color='gray')"
   ]
  },
  {
   "cell_type": "code",
   "execution_count": null,
   "id": "d1c1d034-2896-41d6-aa5b-df76332f33c3",
   "metadata": {},
   "outputs": [],
   "source": [
    "agrupado = dataset.groupby(['Gênero']).size()\n",
    "agrupado"
   ]
  },
  {
   "cell_type": "code",
   "execution_count": null,
   "id": "ddd221c8-e336-44cc-9262-3bb56324d9b1",
   "metadata": {},
   "outputs": [],
   "source": [
    "agrupado.plot.bar(color='gray')"
   ]
  },
  {
   "cell_type": "code",
   "execution_count": null,
   "id": "2d18f730-9b6c-4ff1-83d3-d6ed28850fac",
   "metadata": {},
   "outputs": [],
   "source": [
    "#Score\n",
    "dataset[\"Score\"].describe()\n"
   ]
  },
  {
   "cell_type": "code",
   "execution_count": null,
   "id": "bf42a71f-7a86-43ca-adf6-bac9b8a3eb5c",
   "metadata": {},
   "outputs": [],
   "source": [
    "srn.boxplot(dataset['Score']).set_title('Score')"
   ]
  },
  {
   "cell_type": "code",
   "execution_count": null,
   "id": "51a2499d-2d70-40ba-ae9f-22db307e28a5",
   "metadata": {},
   "outputs": [],
   "source": [
    "srn.distplot(dataset[\"Score\"]).set_title(\"Score\")"
   ]
  },
  {
   "cell_type": "code",
   "execution_count": null,
   "id": "7bd781c9-4b01-4194-a13f-413ba1ba904b",
   "metadata": {},
   "outputs": [],
   "source": [
    "#idade\n",
    "dataset[\"Idade\"].describe()"
   ]
  },
  {
   "cell_type": "code",
   "execution_count": null,
   "id": "66665d52-9536-4757-a620-5883eb6d7083",
   "metadata": {},
   "outputs": [],
   "source": [
    "srn.boxplot(dataset[\"Idade\"]).set_title(\"Idade\")"
   ]
  },
  {
   "cell_type": "code",
   "execution_count": null,
   "id": "ad606fa1-44ff-4435-8a62-1c556cfdf907",
   "metadata": {},
   "outputs": [],
   "source": [
    "srn.distplot(dataset[\"Idade\"]).set_title(\"Idade\")"
   ]
  },
  {
   "cell_type": "code",
   "execution_count": null,
   "id": "646debbd-7bc8-4a2e-b065-ada7f86fff40",
   "metadata": {},
   "outputs": [],
   "source": [
    "#saldo\n",
    "dataset[\"Saldo\"].describe()"
   ]
  },
  {
   "cell_type": "code",
   "execution_count": null,
   "id": "3202760b-8211-40e4-90c9-b3ce1732d96d",
   "metadata": {},
   "outputs": [],
   "source": [
    "srn.boxplot(dataset[\"Saldo\"]).set_title(\"Saldo\")"
   ]
  },
  {
   "cell_type": "code",
   "execution_count": null,
   "id": "952524d0-010f-4aa7-895a-1e6294b6228f",
   "metadata": {},
   "outputs": [],
   "source": [
    "srn.distplot(dataset[\"Saldo\"]).set_title(\"Saldo\")"
   ]
  },
  {
   "cell_type": "code",
   "execution_count": null,
   "id": "fc6d1637-c66f-442f-9f6a-d07fb2ff8463",
   "metadata": {},
   "outputs": [],
   "source": [
    "#salário\n",
    "dataset[\"Salário\"].describe()"
   ]
  },
  {
   "cell_type": "code",
   "execution_count": null,
   "id": "54b66b57-68d8-4a0f-83c2-4f7ef19644e5",
   "metadata": {},
   "outputs": [],
   "source": [
    "srn.boxplot(dataset[\"Salário\"]).set_title(\"Salário\")"
   ]
  },
  {
   "cell_type": "code",
   "execution_count": null,
   "id": "26488482-2ac3-4ca5-8bfe-e01d15b4e89b",
   "metadata": {},
   "outputs": [],
   "source": [
    "srn.distplot(dataset[\"Salário\"]).set_title(\"Salário\")"
   ]
  },
  {
   "cell_type": "code",
   "execution_count": null,
   "id": "1346ad49-34a6-449f-9126-5e842373d891",
   "metadata": {},
   "outputs": [],
   "source": [
    "#contamos valores NaN\n",
    "#genero e salário\n",
    "dataset.isnull().sum()"
   ]
  },
  {
   "cell_type": "code",
   "execution_count": null,
   "id": "24a77eed-80ed-4d51-a626-37b5b9672650",
   "metadata": {},
   "outputs": [],
   "source": [
    "#salarios\n",
    "#remover NAN e substituir pela mediana\n",
    "dataset[\"Salário\"].describe()"
   ]
  },
  {
   "cell_type": "code",
   "execution_count": null,
   "id": "e0d3347b-9b35-4232-89aa-bc704cb90f45",
   "metadata": {},
   "outputs": [],
   "source": [
    "mediana = sts.median(dataset[\"Salário\"])\n",
    "mediana"
   ]
  },
  {
   "cell_type": "code",
   "execution_count": null,
   "id": "3a86023f-bc8a-4262-ac50-ad73f664baf5",
   "metadata": {},
   "outputs": [],
   "source": [
    "#substituindo NAN por mediana\n",
    "dataset[\"Salário\"].fillna(mediana, inplace=True)"
   ]
  },
  {
   "cell_type": "code",
   "execution_count": null,
   "id": "4f834ec9-94f9-45f6-92a1-04764f7005ae",
   "metadata": {},
   "outputs": [],
   "source": [
    "#verificando os NAN\n",
    "dataset[\"Salário\"].isnull().sum()"
   ]
  },
  {
   "cell_type": "code",
   "execution_count": null,
   "id": "c8e5d41b-7d6f-4b08-ae69-6a40529ae0df",
   "metadata": {},
   "outputs": [],
   "source": [
    "#genero, falta de padronização e NAN\n",
    "agrupado = dataset.groupby([\"Gênero\"]).size()\n",
    "agrupado"
   ]
  },
  {
   "cell_type": "code",
   "execution_count": null,
   "id": "7e4aaa4a-3631-4c4f-895a-a192a8b8391a",
   "metadata": {},
   "outputs": [],
   "source": [
    "#total de NaN\n",
    "dataset[\"Gênero\"].isnull().sum()"
   ]
  },
  {
   "cell_type": "code",
   "execution_count": null,
   "id": "1605663c-0e91-4c62-84cc-61fb6635b454",
   "metadata": {},
   "outputs": [],
   "source": [
    "#preenchendo os NaN pela moda\n",
    "dataset[\"Gênero\"].fillna(\"Masculino\", inplace=True)"
   ]
  },
  {
   "cell_type": "code",
   "execution_count": null,
   "id": "a3a392f6-5ebb-4569-8871-35ead45f23c7",
   "metadata": {},
   "outputs": [],
   "source": [
    "#total de NaN\n",
    "dataset[\"Gênero\"].isnull().sum()"
   ]
  },
  {
   "cell_type": "code",
   "execution_count": null,
   "id": "d630e468-b924-4f3d-8f33-d2113a0cd91a",
   "metadata": {},
   "outputs": [],
   "source": [
    "#padronizando f>feminino, m>masculino\n",
    "dataset.loc[dataset[\"Gênero\"] == \"M\", \"Gênero\"] = \"Masculino\"\n",
    "dataset.loc[dataset[\"Gênero\"].isin([\"Fem\", \"F\"]), \"Gênero\"] = \"Feminino\""
   ]
  },
  {
   "cell_type": "code",
   "execution_count": null,
   "id": "f05e7ab1-e7fb-4fd8-838e-bd2ece1a0d50",
   "metadata": {},
   "outputs": [],
   "source": [
    "#visualizar os dados\n",
    "agrupado = dataset.groupby([\"Gênero\"]).size()\n",
    "agrupado"
   ]
  },
  {
   "cell_type": "code",
   "execution_count": null,
   "id": "855d8707-8b3e-438c-9bc6-763c7ae963eb",
   "metadata": {},
   "outputs": [],
   "source": [
    "#idades fora do dominio\n",
    "dataset[\"Idade\"].describe()"
   ]
  },
  {
   "cell_type": "code",
   "execution_count": null,
   "id": "5f6c2d4f-f325-4b42-92f5-d0834964e760",
   "metadata": {},
   "outputs": [],
   "source": [
    "#visualizar \n",
    "dataset.loc[(dataset[\"Idade\"] < 0) | (dataset[\"Idade\"] > 120)]"
   ]
  },
  {
   "cell_type": "code",
   "execution_count": null,
   "id": "a907b158-cd18-443d-9fe9-f7eb2a78c375",
   "metadata": {},
   "outputs": [],
   "source": [
    "#calcular mediana da idade\n",
    "mediana = sts.median(dataset[\"Idade\"])\n",
    "mediana"
   ]
  },
  {
   "cell_type": "code",
   "execution_count": null,
   "id": "c76ba291-3c8a-4360-9a1a-fd8bd2c75bd4",
   "metadata": {},
   "outputs": [],
   "source": [
    "#substituir mediana nos valores errados\n",
    "dataset.loc[(dataset[\"Idade\"] < 0) | (dataset[\"Idade\"] > 120), \"Idade\"] = mediana"
   ]
  },
  {
   "cell_type": "code",
   "execution_count": null,
   "id": "5d8e85fe-4c0d-43f9-88f6-09d727779160",
   "metadata": {},
   "outputs": [],
   "source": [
    "#visualizar idade novamente\n",
    "dataset.loc[(dataset[\"Idade\"] < 0) | (dataset[\"Idade\"] > 120)]"
   ]
  },
  {
   "cell_type": "code",
   "execution_count": null,
   "id": "216a937a-60dc-411b-981a-9d2a8b2e85b3",
   "metadata": {},
   "outputs": [],
   "source": [
    "#procura de dados duplicados, buscamos pelo ID\n",
    "dataset[dataset.duplicated([\"Id\"], keep=False)]"
   ]
  },
  {
   "cell_type": "code",
   "execution_count": null,
   "id": "70e3bd1f-6dda-48fa-8904-ab69558f3cbc",
   "metadata": {},
   "outputs": [],
   "source": [
    "#remover duplicados\n",
    "dataset.drop_duplicates(subset=\"Id\", keep=\"first\", inplace=True)\n",
    "#visulizar\n",
    "dataset[dataset.duplicated([\"Id\"], keep=False)]"
   ]
  },
  {
   "cell_type": "code",
   "execution_count": null,
   "id": "5ede6501-9ac1-4bef-a669-a136bd409242",
   "metadata": {},
   "outputs": [],
   "source": [
    "#estados fora do dominio\n",
    "agrupado = dataset.groupby([\"Estado\"]).size()\n",
    "agrupado"
   ]
  },
  {
   "cell_type": "code",
   "execution_count": null,
   "id": "e88c1adc-dfce-408d-b9a8-959b6b439936",
   "metadata": {},
   "outputs": [],
   "source": [
    "dataset.loc[dataset[\"Estado\"].isin([\"RP\", \"SP\", \"TD\"]), \"Estado\"] = \"RS\""
   ]
  },
  {
   "cell_type": "code",
   "execution_count": null,
   "id": "c7228117-1097-49e8-b470-ff1ba9870536",
   "metadata": {},
   "outputs": [],
   "source": [
    "#estados fora do dominio\n",
    "agrupado = dataset.groupby([\"Estado\"]).size()\n",
    "agrupado"
   ]
  },
  {
   "cell_type": "code",
   "execution_count": null,
   "id": "6bcdf20c-d53c-4a46-88f1-ec17d0e4a441",
   "metadata": {},
   "outputs": [],
   "source": [
    "#outliers em salário, vamos considerar 2 desvios padrão\n",
    "desv = sts.stdev(dataset[\"Salário\"])\n",
    "desv"
   ]
  },
  {
   "cell_type": "code",
   "execution_count": null,
   "id": "8d296ad6-28db-4e0c-ba98-09182ae97ba9",
   "metadata": {},
   "outputs": [],
   "source": [
    "#definir padrão com maior que 2 desvios padrão\n",
    "dataset.loc[(dataset[\"Salário\"] >= 2*desv)]"
   ]
  },
  {
   "cell_type": "code",
   "execution_count": null,
   "id": "7ed45c25-bf3a-4946-adfe-b63bbb17fa5c",
   "metadata": {},
   "outputs": [],
   "source": [
    "#Calcula a mediana do salário\n",
    "mediana = sts.median(dataset[\"Salário\"])\n",
    "mediana"
   ]
  },
  {
   "cell_type": "code",
   "execution_count": null,
   "id": "8822b9f1-925f-42f3-9555-12ed11592c90",
   "metadata": {},
   "outputs": [],
   "source": [
    "#substitui a mediana do salário\n",
    "dataset.loc[(dataset[\"Salário\"] >= 2*desv)] = mediana"
   ]
  },
  {
   "cell_type": "code",
   "execution_count": null,
   "id": "dac6c0c9-7966-4da3-ba46-441cf9ce2e08",
   "metadata": {},
   "outputs": [],
   "source": [
    "#checa os valores\n",
    "dataset.loc[(dataset[\"Salário\"] >= 2*desv)]"
   ]
  },
  {
   "cell_type": "code",
   "execution_count": null,
   "id": "5bd1f753-adde-48ed-895a-5141a36db9e5",
   "metadata": {},
   "outputs": [],
   "source": [
    "dataset.head()"
   ]
  },
  {
   "cell_type": "code",
   "execution_count": null,
   "id": "692ce2d4-1c02-4af0-99eb-a6214ce1cc43",
   "metadata": {
    "tags": []
   },
   "outputs": [],
   "source": [
    "dataset.shape"
   ]
  }
 ],
 "metadata": {
  "kernelspec": {
   "display_name": "Python 3",
   "language": "python",
   "name": "python3"
  },
  "language_info": {
   "codemirror_mode": {
    "name": "ipython",
    "version": 3
   },
   "file_extension": ".py",
   "mimetype": "text/x-python",
   "name": "python",
   "nbconvert_exporter": "python",
   "pygments_lexer": "ipython3",
   "version": "3.7.10"
  }
 },
 "nbformat": 4,
 "nbformat_minor": 5
}
