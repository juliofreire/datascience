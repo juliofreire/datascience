{
 "cells": [
  {
   "cell_type": "code",
   "execution_count": 8,
   "id": "ccefbad2-f08a-421e-8b58-f57b17f9d37a",
   "metadata": {},
   "outputs": [],
   "source": [
    "import numpy as np"
   ]
  },
  {
   "cell_type": "code",
   "execution_count": 12,
   "id": "24fb9e04-a97f-4dd9-b8bb-f1ea6dcfade0",
   "metadata": {
    "tags": []
   },
   "outputs": [],
   "source": [
    "def amplitude(lista):\n",
    "    amp = np.max(lista) - np.min(lista)\n",
    "    return amp"
   ]
  },
  {
   "cell_type": "code",
   "execution_count": 14,
   "id": "67a254e2-ff1f-423e-af42-51fe04ac2838",
   "metadata": {},
   "outputs": [
    {
     "name": "stdout",
     "output_type": "stream",
     "text": [
      "4\n"
     ]
    }
   ],
   "source": [
    "a = amplitude([1,2,3,4,5])\n",
    "print(a)"
   ]
  },
  {
   "cell_type": "code",
   "execution_count": 16,
   "id": "a34388a0-8d1e-4b9d-9e1a-15f5db43c4dd",
   "metadata": {},
   "outputs": [],
   "source": [
    "def vertical(palavra):\n",
    "    for i in range(len(palavra)):\n",
    "        print(palavra[i])"
   ]
  },
  {
   "cell_type": "code",
   "execution_count": 18,
   "id": "eed0ebcd-36a7-4e4e-9ecf-d833fe102748",
   "metadata": {},
   "outputs": [
    {
     "name": "stdout",
     "output_type": "stream",
     "text": [
      "p\n",
      "y\n",
      "t\n",
      "h\n",
      "o\n",
      "n\n"
     ]
    }
   ],
   "source": [
    "vertical('python')"
   ]
  },
  {
   "cell_type": "code",
   "execution_count": null,
   "id": "28cb0fcd-1aaf-498f-ae24-97c2c683e74a",
   "metadata": {},
   "outputs": [],
   "source": []
  }
 ],
 "metadata": {
  "kernelspec": {
   "display_name": "Python 3",
   "language": "python",
   "name": "python3"
  },
  "language_info": {
   "codemirror_mode": {
    "name": "ipython",
    "version": 3
   },
   "file_extension": ".py",
   "mimetype": "text/x-python",
   "name": "python",
   "nbconvert_exporter": "python",
   "pygments_lexer": "ipython3",
   "version": "3.7.10"
  }
 },
 "nbformat": 4,
 "nbformat_minor": 5
}
